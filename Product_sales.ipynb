{
 "cells": [
  {
   "cell_type": "code",
   "execution_count": 1,
   "id": "2b4ee3cf-f75c-49a8-b9dc-33c362deadb1",
   "metadata": {},
   "outputs": [],
   "source": [
    "# The dataset gives us electronics sales data at Amazon. \n",
    "\n",
    "# It contains user ratings for various electronics items sold, along with category of each item and time of sell.\n",
    "\n"
   ]
  },
  {
   "cell_type": "code",
   "execution_count": 3,
   "id": "774ea830-13bd-4722-8a20-7f73d86f1d59",
   "metadata": {},
   "outputs": [],
   "source": [
    "import pandas as pd\n",
    "import numpy as np\n",
    "import matplotlib.pyplot as plt\n",
    "import seaborn as sns"
   ]
  },
  {
   "cell_type": "code",
   "execution_count": 4,
   "id": "6ed1dc2a-f7aa-4d73-8b81-e70c6f0c771f",
   "metadata": {},
   "outputs": [
    {
     "data": {
      "text/html": [
       "<div>\n",
       "<style scoped>\n",
       "    .dataframe tbody tr th:only-of-type {\n",
       "        vertical-align: middle;\n",
       "    }\n",
       "\n",
       "    .dataframe tbody tr th {\n",
       "        vertical-align: top;\n",
       "    }\n",
       "\n",
       "    .dataframe thead th {\n",
       "        text-align: right;\n",
       "    }\n",
       "</style>\n",
       "<table border=\"1\" class=\"dataframe\">\n",
       "  <thead>\n",
       "    <tr style=\"text-align: right;\">\n",
       "      <th></th>\n",
       "      <th>item_id</th>\n",
       "      <th>user_id</th>\n",
       "      <th>rating</th>\n",
       "      <th>timestamp</th>\n",
       "      <th>model_attr</th>\n",
       "      <th>category</th>\n",
       "      <th>brand</th>\n",
       "      <th>year</th>\n",
       "      <th>user_attr</th>\n",
       "      <th>split</th>\n",
       "    </tr>\n",
       "  </thead>\n",
       "  <tbody>\n",
       "    <tr>\n",
       "      <th>0</th>\n",
       "      <td>0</td>\n",
       "      <td>0</td>\n",
       "      <td>5.0</td>\n",
       "      <td>1999-06-13</td>\n",
       "      <td>Female</td>\n",
       "      <td>Portable Audio &amp; Video</td>\n",
       "      <td>NaN</td>\n",
       "      <td>1999</td>\n",
       "      <td>NaN</td>\n",
       "      <td>0</td>\n",
       "    </tr>\n",
       "    <tr>\n",
       "      <th>1</th>\n",
       "      <td>0</td>\n",
       "      <td>1</td>\n",
       "      <td>5.0</td>\n",
       "      <td>1999-06-14</td>\n",
       "      <td>Female</td>\n",
       "      <td>Portable Audio &amp; Video</td>\n",
       "      <td>NaN</td>\n",
       "      <td>1999</td>\n",
       "      <td>NaN</td>\n",
       "      <td>0</td>\n",
       "    </tr>\n",
       "    <tr>\n",
       "      <th>2</th>\n",
       "      <td>0</td>\n",
       "      <td>2</td>\n",
       "      <td>3.0</td>\n",
       "      <td>1999-06-17</td>\n",
       "      <td>Female</td>\n",
       "      <td>Portable Audio &amp; Video</td>\n",
       "      <td>NaN</td>\n",
       "      <td>1999</td>\n",
       "      <td>NaN</td>\n",
       "      <td>0</td>\n",
       "    </tr>\n",
       "    <tr>\n",
       "      <th>3</th>\n",
       "      <td>0</td>\n",
       "      <td>3</td>\n",
       "      <td>1.0</td>\n",
       "      <td>1999-07-01</td>\n",
       "      <td>Female</td>\n",
       "      <td>Portable Audio &amp; Video</td>\n",
       "      <td>NaN</td>\n",
       "      <td>1999</td>\n",
       "      <td>NaN</td>\n",
       "      <td>0</td>\n",
       "    </tr>\n",
       "    <tr>\n",
       "      <th>4</th>\n",
       "      <td>0</td>\n",
       "      <td>4</td>\n",
       "      <td>2.0</td>\n",
       "      <td>1999-07-06</td>\n",
       "      <td>Female</td>\n",
       "      <td>Portable Audio &amp; Video</td>\n",
       "      <td>NaN</td>\n",
       "      <td>1999</td>\n",
       "      <td>NaN</td>\n",
       "      <td>0</td>\n",
       "    </tr>\n",
       "  </tbody>\n",
       "</table>\n",
       "</div>"
      ],
      "text/plain": [
       "   item_id  user_id  rating   timestamp model_attr                category  \\\n",
       "0        0        0     5.0  1999-06-13     Female  Portable Audio & Video   \n",
       "1        0        1     5.0  1999-06-14     Female  Portable Audio & Video   \n",
       "2        0        2     3.0  1999-06-17     Female  Portable Audio & Video   \n",
       "3        0        3     1.0  1999-07-01     Female  Portable Audio & Video   \n",
       "4        0        4     2.0  1999-07-06     Female  Portable Audio & Video   \n",
       "\n",
       "  brand  year user_attr  split  \n",
       "0   NaN  1999       NaN      0  \n",
       "1   NaN  1999       NaN      0  \n",
       "2   NaN  1999       NaN      0  \n",
       "3   NaN  1999       NaN      0  \n",
       "4   NaN  1999       NaN      0  "
      ]
     },
     "execution_count": 4,
     "metadata": {},
     "output_type": "execute_result"
    }
   ],
   "source": [
    "# Importing Dataset \n",
    "\n",
    "df = pd.read_csv(\"electronics.csv\")\n",
    "df.head(5)"
   ]
  },
  {
   "cell_type": "code",
   "execution_count": 6,
   "id": "37d5a82c-0288-48f0-ae0b-628eb9cadfb0",
   "metadata": {},
   "outputs": [
    {
     "data": {
      "text/plain": [
       "(1292954, 10)"
      ]
     },
     "execution_count": 6,
     "metadata": {},
     "output_type": "execute_result"
    }
   ],
   "source": [
    "df.shape\n"
   ]
  },
  {
   "cell_type": "code",
   "execution_count": 7,
   "id": "e6e0ac0a-367e-4897-83b8-59fe9e83ed61",
   "metadata": {},
   "outputs": [
    {
     "name": "stdout",
     "output_type": "stream",
     "text": [
      "<class 'pandas.core.frame.DataFrame'>\n",
      "RangeIndex: 1292954 entries, 0 to 1292953\n",
      "Data columns (total 10 columns):\n",
      " #   Column      Non-Null Count    Dtype  \n",
      "---  ------      --------------    -----  \n",
      " 0   item_id     1292954 non-null  int64  \n",
      " 1   user_id     1292954 non-null  int64  \n",
      " 2   rating      1292954 non-null  float64\n",
      " 3   timestamp   1292954 non-null  object \n",
      " 4   model_attr  1292954 non-null  object \n",
      " 5   category    1292954 non-null  object \n",
      " 6   brand       331120 non-null   object \n",
      " 7   year        1292954 non-null  int64  \n",
      " 8   user_attr   174124 non-null   object \n",
      " 9   split       1292954 non-null  int64  \n",
      "dtypes: float64(1), int64(4), object(5)\n",
      "memory usage: 98.6+ MB\n"
     ]
    }
   ],
   "source": [
    "# It is also a good practice to know the columns and their corresponding data types\n",
    "# along with finding whether they contain null values or not.\n",
    "df.info()"
   ]
  },
  {
   "cell_type": "code",
   "execution_count": 12,
   "id": "c563c1db-a783-4bad-a4ba-dcc3c9a7fe62",
   "metadata": {},
   "outputs": [],
   "source": [
    "# We can also see that the column Timestamp is of int64 data type, but it is actually a timestamp.\n",
    "\n",
    "# We can convert it to a timestamp using the following code:\n",
    "\n",
    "from datetime import datetime\n",
    "\n",
    "df['timestamp'] = pd.to_datetime(df['timestamp'])"
   ]
  },
  {
   "cell_type": "code",
   "execution_count": 13,
   "id": "7985a194-f58e-4f09-a806-a1af6f44e134",
   "metadata": {},
   "outputs": [],
   "source": [
    "# We can also see that the column Brand is of object data type, but it is actually a string.\n",
    "\n",
    "# We can convert it to a string using the following code:\n",
    "df['brand'] = df['brand'].astype(str)"
   ]
  },
  {
   "cell_type": "code",
   "execution_count": 14,
   "id": "50f085c9-abb0-42cc-9d5c-2ffdc015a17a",
   "metadata": {},
   "outputs": [],
   "source": [
    "# We can also see that the column User ID is of int64 data type, but it is actually a string.\n",
    "\n",
    "# We can convert it to a string using the following code:\n",
    "\n",
    "df['user_id'] = df['user_id'].astype(str)"
   ]
  },
  {
   "cell_type": "code",
   "execution_count": 15,
   "id": "b67730a1-3a62-454a-8ba8-d9cfc445e9e5",
   "metadata": {},
   "outputs": [
    {
     "data": {
      "text/html": [
       "<div>\n",
       "<style scoped>\n",
       "    .dataframe tbody tr th:only-of-type {\n",
       "        vertical-align: middle;\n",
       "    }\n",
       "\n",
       "    .dataframe tbody tr th {\n",
       "        vertical-align: top;\n",
       "    }\n",
       "\n",
       "    .dataframe thead th {\n",
       "        text-align: right;\n",
       "    }\n",
       "</style>\n",
       "<table border=\"1\" class=\"dataframe\">\n",
       "  <thead>\n",
       "    <tr style=\"text-align: right;\">\n",
       "      <th></th>\n",
       "      <th>item_id</th>\n",
       "      <th>rating</th>\n",
       "      <th>timestamp</th>\n",
       "      <th>year</th>\n",
       "      <th>split</th>\n",
       "    </tr>\n",
       "  </thead>\n",
       "  <tbody>\n",
       "    <tr>\n",
       "      <th>count</th>\n",
       "      <td>1.292954e+06</td>\n",
       "      <td>1.292954e+06</td>\n",
       "      <td>1292954</td>\n",
       "      <td>1.292954e+06</td>\n",
       "      <td>1.292954e+06</td>\n",
       "    </tr>\n",
       "    <tr>\n",
       "      <th>mean</th>\n",
       "      <td>4.183588e+03</td>\n",
       "      <td>4.051482e+00</td>\n",
       "      <td>2015-06-18 11:30:34.851355904</td>\n",
       "      <td>2.012938e+03</td>\n",
       "      <td>1.747587e-01</td>\n",
       "    </tr>\n",
       "    <tr>\n",
       "      <th>min</th>\n",
       "      <td>0.000000e+00</td>\n",
       "      <td>1.000000e+00</td>\n",
       "      <td>1999-06-13 00:00:00</td>\n",
       "      <td>1.999000e+03</td>\n",
       "      <td>0.000000e+00</td>\n",
       "    </tr>\n",
       "    <tr>\n",
       "      <th>25%</th>\n",
       "      <td>2.018000e+03</td>\n",
       "      <td>4.000000e+00</td>\n",
       "      <td>2014-09-06 00:00:00</td>\n",
       "      <td>2.012000e+03</td>\n",
       "      <td>0.000000e+00</td>\n",
       "    </tr>\n",
       "    <tr>\n",
       "      <th>50%</th>\n",
       "      <td>3.930000e+03</td>\n",
       "      <td>5.000000e+00</td>\n",
       "      <td>2015-10-19 00:00:00</td>\n",
       "      <td>2.014000e+03</td>\n",
       "      <td>0.000000e+00</td>\n",
       "    </tr>\n",
       "    <tr>\n",
       "      <th>75%</th>\n",
       "      <td>6.289000e+03</td>\n",
       "      <td>5.000000e+00</td>\n",
       "      <td>2016-10-19 00:00:00</td>\n",
       "      <td>2.015000e+03</td>\n",
       "      <td>0.000000e+00</td>\n",
       "    </tr>\n",
       "    <tr>\n",
       "      <th>max</th>\n",
       "      <td>9.559000e+03</td>\n",
       "      <td>5.000000e+00</td>\n",
       "      <td>2018-10-01 00:00:00</td>\n",
       "      <td>2.018000e+03</td>\n",
       "      <td>2.000000e+00</td>\n",
       "    </tr>\n",
       "    <tr>\n",
       "      <th>std</th>\n",
       "      <td>2.525346e+03</td>\n",
       "      <td>1.379732e+00</td>\n",
       "      <td>NaN</td>\n",
       "      <td>2.643513e+00</td>\n",
       "      <td>5.506810e-01</td>\n",
       "    </tr>\n",
       "  </tbody>\n",
       "</table>\n",
       "</div>"
      ],
      "text/plain": [
       "            item_id        rating                      timestamp  \\\n",
       "count  1.292954e+06  1.292954e+06                        1292954   \n",
       "mean   4.183588e+03  4.051482e+00  2015-06-18 11:30:34.851355904   \n",
       "min    0.000000e+00  1.000000e+00            1999-06-13 00:00:00   \n",
       "25%    2.018000e+03  4.000000e+00            2014-09-06 00:00:00   \n",
       "50%    3.930000e+03  5.000000e+00            2015-10-19 00:00:00   \n",
       "75%    6.289000e+03  5.000000e+00            2016-10-19 00:00:00   \n",
       "max    9.559000e+03  5.000000e+00            2018-10-01 00:00:00   \n",
       "std    2.525346e+03  1.379732e+00                            NaN   \n",
       "\n",
       "               year         split  \n",
       "count  1.292954e+06  1.292954e+06  \n",
       "mean   2.012938e+03  1.747587e-01  \n",
       "min    1.999000e+03  0.000000e+00  \n",
       "25%    2.012000e+03  0.000000e+00  \n",
       "50%    2.014000e+03  0.000000e+00  \n",
       "75%    2.015000e+03  0.000000e+00  \n",
       "max    2.018000e+03  2.000000e+00  \n",
       "std    2.643513e+00  5.506810e-01  "
      ]
     },
     "execution_count": 15,
     "metadata": {},
     "output_type": "execute_result"
    }
   ],
   "source": [
    "# we can also see the statistical summary of the dataset.\n",
    "\n",
    "df.describe()"
   ]
  },
  {
   "cell_type": "code",
   "execution_count": 16,
   "id": "c67a22ba-96ab-4b9f-82fe-0b2fab4a01be",
   "metadata": {},
   "outputs": [
    {
     "data": {
      "text/plain": [
       "Index(['item_id', 'user_id', 'rating', 'timestamp', 'model_attr', 'category',\n",
       "       'brand', 'year', 'user_attr', 'split'],\n",
       "      dtype='object')"
      ]
     },
     "execution_count": 16,
     "metadata": {},
     "output_type": "execute_result"
    }
   ],
   "source": [
    "# We can print columns \n",
    "df.columns"
   ]
  },
  {
   "cell_type": "code",
   "execution_count": 17,
   "id": "3c512ea3-7048-442e-a477-fbd43334567c",
   "metadata": {},
   "outputs": [],
   "source": [
    "# the statistical summary of the dataset gives us the following information:\n",
    "\n",
    "# 1. The mean rating is 4.\n",
    "\n",
    "# 2. The minimum rating is 1.\n",
    "\n",
    "# 3. The maximum rating is 5."
   ]
  },
  {
   "cell_type": "code",
   "execution_count": 18,
   "id": "9d2c51b2-e965-4412-bc5f-69387dca60a8",
   "metadata": {},
   "outputs": [
    {
     "data": {
      "text/plain": [
       "item_id          9560\n",
       "user_id       1157633\n",
       "rating              5\n",
       "timestamp        6354\n",
       "model_attr          3\n",
       "category           10\n",
       "brand              51\n",
       "year               20\n",
       "user_attr           2\n",
       "split               3\n",
       "dtype: int64"
      ]
     },
     "execution_count": 18,
     "metadata": {},
     "output_type": "execute_result"
    }
   ],
   "source": [
    "# We can also see the number of unique users and items in the dataset.\n",
    "\n",
    "df.nunique()"
   ]
  },
  {
   "cell_type": "code",
   "execution_count": 19,
   "id": "6be23f2d-0784-471c-81b0-106c00561d52",
   "metadata": {},
   "outputs": [
    {
     "data": {
      "text/plain": [
       "0"
      ]
     },
     "execution_count": 19,
     "metadata": {},
     "output_type": "execute_result"
    }
   ],
   "source": [
    "# check for duplicated\n",
    "\n",
    "df.duplicated().sum()"
   ]
  },
  {
   "cell_type": "code",
   "execution_count": 23,
   "id": "cdfa4741-6b93-4f8c-ba5d-5e98727bea57",
   "metadata": {},
   "outputs": [
    {
     "data": {
      "text/plain": [
       "item_id             0\n",
       "user_id             0\n",
       "rating              0\n",
       "timestamp           0\n",
       "model_attr          0\n",
       "category            0\n",
       "brand               0\n",
       "year                0\n",
       "user_attr     1118830\n",
       "split               0\n",
       "dtype: int64"
      ]
     },
     "execution_count": 23,
     "metadata": {},
     "output_type": "execute_result"
    }
   ],
   "source": [
    "# Check for Missing values\n",
    "df.isnull().sum()"
   ]
  },
  {
   "cell_type": "code",
   "execution_count": 21,
   "id": "466b38ff-9ac5-4ddb-8259-fec793d10396",
   "metadata": {},
   "outputs": [
    {
     "data": {
      "text/plain": [
       "rating\n",
       "5.0    755755\n",
       "4.0    214166\n",
       "1.0    143755\n",
       "3.0    100630\n",
       "2.0     78648\n",
       "Name: count, dtype: int64"
      ]
     },
     "execution_count": 21,
     "metadata": {},
     "output_type": "execute_result"
    }
   ],
   "source": [
    "# the distribution of ratings\n",
    "\n",
    "df['rating'].value_counts()"
   ]
  },
  {
   "cell_type": "code",
   "execution_count": 25,
   "id": "c6efcd97-2548-4d94-bb31-7167bad8231b",
   "metadata": {},
   "outputs": [
    {
     "data": {
      "text/plain": [
       "year\n",
       "2015    320887\n",
       "2016    302619\n",
       "2017    192477\n",
       "2014    180676\n",
       "2013     99855\n",
       "2018     80229\n",
       "2012     38389\n",
       "2011     23894\n",
       "2010     16888\n",
       "2009     12804\n",
       "2008      9428\n",
       "2007      6798\n",
       "2006      2614\n",
       "2005      2170\n",
       "2004      1275\n",
       "2003       833\n",
       "2002       481\n",
       "2001       403\n",
       "2000       187\n",
       "1999        47\n",
       "Name: count, dtype: int64"
      ]
     },
     "execution_count": 25,
     "metadata": {},
     "output_type": "execute_result"
    }
   ],
   "source": [
    "# what was the best year of sales\n",
    "df['year'] = pd.DatetimeIndex(df['timestamp']).year\n",
    "\n",
    "df['year'].value_counts()"
   ]
  },
  {
   "cell_type": "code",
   "execution_count": null,
   "id": "d0532b40-fbec-4d3e-addb-8a51fd3d6b75",
   "metadata": {},
   "outputs": [],
   "source": [
    "# 2015 was the best year of sales"
   ]
  },
  {
   "cell_type": "code",
   "execution_count": 27,
   "id": "f42df4d0-19dd-4bfe-bbb9-551343d68623",
   "metadata": {},
   "outputs": [
    {
     "data": {
      "text/plain": [
       "month\n",
       "1     140773\n",
       "12    124597\n",
       "3     116464\n",
       "2     110546\n",
       "8     109835\n",
       "7     107612\n",
       "4      99136\n",
       "5      98207\n",
       "9      97368\n",
       "11     97015\n",
       "6      96317\n",
       "10     95084\n",
       "Name: count, dtype: int64"
      ]
     },
     "execution_count": 27,
     "metadata": {},
     "output_type": "execute_result"
    }
   ],
   "source": [
    "# What was the best month of sale\n",
    "\n",
    "df['month'] = pd.DatetimeIndex(df['timestamp']).month\n",
    "df['month'].value_counts()"
   ]
  },
  {
   "cell_type": "code",
   "execution_count": 28,
   "id": "3160fe37-a745-4d77-80d5-c58a569f4cb6",
   "metadata": {},
   "outputs": [],
   "source": [
    "# January was the best month of sale\n"
   ]
  },
  {
   "cell_type": "code",
   "execution_count": 29,
   "id": "efc0fc69-667c-45b1-a990-d24f81ed8e77",
   "metadata": {},
   "outputs": [],
   "source": [
    "# drop all null values\n",
    "df.dropna(inplace=True)"
   ]
  },
  {
   "cell_type": "code",
   "execution_count": 30,
   "id": "eb421093-7bf4-47a8-bc55-802e6af29868",
   "metadata": {},
   "outputs": [
    {
     "data": {
      "text/plain": [
       "item_id       0\n",
       "user_id       0\n",
       "rating        0\n",
       "timestamp     0\n",
       "model_attr    0\n",
       "category      0\n",
       "brand         0\n",
       "year          0\n",
       "user_attr     0\n",
       "split         0\n",
       "month         0\n",
       "dtype: int64"
      ]
     },
     "execution_count": 30,
     "metadata": {},
     "output_type": "execute_result"
    }
   ],
   "source": [
    "# check for missing values\n",
    "df.isnull().sum()"
   ]
  },
  {
   "cell_type": "markdown",
   "id": "9de39a08-6378-4ede-bd3b-4a17501932bf",
   "metadata": {},
   "source": [
    "# FINDING ANSWERS WITH THE DATA WE HAVE WITH VISUALIZATIONS"
   ]
  },
  {
   "cell_type": "code",
   "execution_count": 31,
   "id": "6d60cd91-930f-4785-aefd-c2f54fcfed18",
   "metadata": {},
   "outputs": [],
   "source": [
    "# the distribution of ratings "
   ]
  },
  {
   "cell_type": "code",
   "execution_count": 50,
   "id": "5006bc4a-49bc-45e7-bc0e-6048d3af3480",
   "metadata": {},
   "outputs": [
    {
     "name": "stderr",
     "output_type": "stream",
     "text": [
      "C:\\Users\\Vaibhav\\AppData\\Local\\Temp\\ipykernel_6548\\1026241293.py:3: UserWarning: The palette list has more values (9) than needed (5), which may not be intended.\n",
      "  sns.countplot(x=\"rating\", data=df, palette=palette, legend=False, hue='rating')\n"
     ]
    },
    {
     "data": {
      "text/plain": [
       "Text(0, 0.5, 'Count of that rating')"
      ]
     },
     "execution_count": 50,
     "metadata": {},
     "output_type": "execute_result"
    },
    {
     "data": {
      "image/png": "[encoded data removed]",
      "text/plain": [
       "<Figure size 640x480 with 1 Axes>"
      ]
     },
     "metadata": {},
     "output_type": "display_data"
    }
   ],
   "source": [
    "\n",
    "palette = sns.color_palette(\"tab10\", n_colors=9)\n",
    "\n",
    "sns.countplot(x=\"rating\", data=df, palette=palette, legend=False, hue='rating')\n",
    "plt.title(\"Count of Ratings\")\n",
    "plt.xlabel(\"Rating of the Electronics\")\n",
    "plt.ylabel(\"Count of that rating\")\n"
   ]
  },
  {
   "cell_type": "code",
   "execution_count": 36,
   "id": "4aae9cca-d5b0-46fa-813f-f2d5bb256d6b",
   "metadata": {},
   "outputs": [
    {
     "data": {
      "text/plain": [
       "rating\n",
       "5.0    107593\n",
       "4.0     30104\n",
       "3.0     14593\n",
       "1.0     12652\n",
       "2.0      9182\n",
       "Name: count, dtype: int64"
      ]
     },
     "execution_count": 36,
     "metadata": {},
     "output_type": "execute_result"
    }
   ],
   "source": [
    "df['rating'].value_counts()"
   ]
  },
  {
   "cell_type": "code",
   "execution_count": 37,
   "id": "a2c1c1b5-3804-42b6-8429-342d1e45558c",
   "metadata": {},
   "outputs": [],
   "source": [
    "# the distribution of sales by year"
   ]
  },
  {
   "cell_type": "code",
   "execution_count": 51,
   "id": "f8bfb3d6-0934-4c04-a6fe-0131ac24b108",
   "metadata": {},
   "outputs": [
    {
     "name": "stderr",
     "output_type": "stream",
     "text": [
      "C:\\Users\\Vaibhav\\AppData\\Local\\Temp\\ipykernel_6548\\3633932233.py:3: UserWarning: \n",
      "The palette list has fewer values (9) than needed (20) and will cycle, which may produce an uninterpretable plot.\n",
      "  sns.countplot(x=\"year\", data=df ,palette=palette, legend= False, hue=\"year\")\n"
     ]
    },
    {
     "data": {
      "text/plain": [
       "<Axes: xlabel='year', ylabel='count'>"
      ]
     },
     "execution_count": 51,
     "metadata": {},
     "output_type": "execute_result"
    },
    {
     "data": {
      "image/png": "[encoded data removed]",
      "text/plain": [
       "<Figure size 640x480 with 1 Axes>"
      ]
     },
     "metadata": {},
     "output_type": "display_data"
    }
   ],
   "source": [
    "#palette = sns.color_palette(\"coolwarm\", as_cmap = False)\n",
    "\n",
    "sns.countplot(x=\"year\", data=df ,palette=palette, legend= False, hue=\"year\")\n",
    "\n"
   ]
  },
  {
   "cell_type": "code",
   "execution_count": null,
   "id": "0f96b6d5-a11b-45cc-a3d7-9aa0239bdb6d",
   "metadata": {},
   "outputs": [],
   "source": [
    "# brands with the most sales\n",
    "\n"
   ]
  },
  {
   "cell_type": "code",
   "execution_count": 52,
   "id": "c890a7e4-820c-4675-a4af-9323c7123260",
   "metadata": {},
   "outputs": [
    {
     "name": "stderr",
     "output_type": "stream",
     "text": [
      "C:\\Users\\Vaibhav\\AppData\\Local\\Temp\\ipykernel_6548\\4010065704.py:2: UserWarning: \n",
      "The palette list has fewer values (9) than needed (51) and will cycle, which may produce an uninterpretable plot.\n",
      "  sns.countplot(x='brand',hue=\"brand\",legend=False, data=df, order=df['brand'].value_counts().iloc[1:10].index, palette=palette)\n"
     ]
    },
    {
     "data": {
      "text/plain": [
       "([0, 1, 2, 3, 4, 5, 6, 7, 8],\n",
       " [Text(0, 0, 'Logitech'),\n",
       "  Text(1, 0, 'Bose'),\n",
       "  Text(2, 0, 'Sony'),\n",
       "  Text(3, 0, 'EldHus'),\n",
       "  Text(4, 0, 'Mpow'),\n",
       "  Text(5, 0, 'Fujifilm'),\n",
       "  Text(6, 0, 'TaoTronics'),\n",
       "  Text(7, 0, 'Sennheiser'),\n",
       "  Text(8, 0, 'Etre Jeune')])"
      ]
     },
     "execution_count": 52,
     "metadata": {},
     "output_type": "execute_result"
    },
    {
     "data": {
      "image/png": "[encoded data removed]",
      "text/plain": [
       "<Figure size 1200x600 with 1 Axes>"
      ]
     },
     "metadata": {},
     "output_type": "display_data"
    }
   ],
   "source": [
    "plt.figure(figsize=(12,6))\n",
    "sns.countplot(x='brand',hue=\"brand\",legend=False, data=df, order=df['brand'].value_counts().iloc[1:10].index, palette=palette)\n",
    "plt.xticks(rotation=45, ha='right', fontsize=10)"
   ]
  },
  {
   "cell_type": "code",
   "execution_count": 54,
   "id": "8614ddbd-a8ca-405c-92fc-0bfa4798299a",
   "metadata": {},
   "outputs": [
    {
     "data": {
      "text/plain": [
       "<Axes: >"
      ]
     },
     "execution_count": 54,
     "metadata": {},
     "output_type": "execute_result"
    },
    {
     "data": {
      "image/png": "[encoded data removed]",
      "text/plain": [
       "<Figure size 640x480 with 1 Axes>"
      ]
     },
     "metadata": {},
     "output_type": "display_data"
    }
   ],
   "source": [
    "sns.countplot(x='brand', data=df[df['year']==2026],order=df['year'].value_counts().iloc[1:10].index)"
   ]
  },
  {
   "cell_type": "code",
   "execution_count": 59,
   "id": "996429fa-a529-4fab-92af-7a16ae01b005",
   "metadata": {},
   "outputs": [
    {
     "name": "stderr",
     "output_type": "stream",
     "text": [
      "C:\\Users\\Vaibhav\\AppData\\Local\\Temp\\ipykernel_6548\\3870035653.py:5: FutureWarning: \n",
      "\n",
      "Passing `palette` without assigning `hue` is deprecated and will be removed in v0.14.0. Assign the `x` variable to `hue` and set `legend=False` for the same effect.\n",
      "\n",
      "  sns.countplot(x=\"category\", data=df, order=df['category'].value_counts().iloc[-10:].index,palette=palette)\n",
      "C:\\Users\\Vaibhav\\AppData\\Local\\Temp\\ipykernel_6548\\3870035653.py:5: UserWarning: \n",
      "The palette list has fewer values (9) than needed (10) and will cycle, which may produce an uninterpretable plot.\n",
      "  sns.countplot(x=\"category\", data=df, order=df['category'].value_counts().iloc[-10:].index,palette=palette)\n"
     ]
    },
    {
     "data": {
      "text/plain": [
       "<Axes: xlabel='category', ylabel='count'>"
      ]
     },
     "execution_count": 59,
     "metadata": {},
     "output_type": "execute_result"
    },
    {
     "data": {
      "image/png": "[encoded data removed]",
      "text/plain": [
       "<Figure size 640x480 with 1 Axes>"
      ]
     },
     "metadata": {},
     "output_type": "display_data"
    }
   ],
   "source": [
    "# Category with the least sales\n",
    "\n",
    "\n",
    "\n",
    "sns.countplot(x=\"category\", data=df, order=df['category'].value_counts().iloc[-10:].index,palette=palette)"
   ]
  },
  {
   "cell_type": "code",
   "execution_count": null,
   "id": "ec311857-16da-4419-a819-eb20e605814e",
   "metadata": {},
   "outputs": [],
   "source": [
    "# distribution of sales presented in a pie chart"
   ]
  },
  {
   "cell_type": "code",
   "execution_count": 56,
   "id": "15eafe94-402c-4a2e-9946-b67b0b6c99f2",
   "metadata": {},
   "outputs": [
    {
     "data": {
      "image/png": "[encoded data removed]",
      "text/plain": [
       "<Figure size 640x480 with 1 Axes>"
      ]
     },
     "metadata": {},
     "output_type": "display_data"
    }
   ],
   "source": [
    "df['category'].value_counts(normalize=True)\n",
    "df.groupby('category')['rating'].count().sort_values(ascending=False).head(10).plot(kind='pie')\n",
    "sns.set_style('white')"
   ]
  },
  {
   "cell_type": "code",
   "execution_count": null,
   "id": "df9912cf-c437-437f-8218-7c0e4864fe31",
   "metadata": {},
   "outputs": [],
   "source": []
  }
 ],
 "metadata": {
  "kernelspec": {
   "display_name": "Python 3 (ipykernel)",
   "language": "python",
   "name": "python3"
  },
  "language_info": {
   "codemirror_mode": {
    "name": "ipython",
    "version": 3
   },
   "file_extension": ".py",
   "mimetype": "text/x-python",
   "name": "python",
   "nbconvert_exporter": "python",
   "pygments_lexer": "ipython3",
   "version": "3.12.3"
  }
 },
 "nbformat": 4,
 "nbformat_minor": 5
}
